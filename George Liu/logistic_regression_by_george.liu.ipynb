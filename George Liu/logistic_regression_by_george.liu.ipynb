{
 "cells": [
  {
   "cell_type": "code",
   "execution_count": 1,
   "metadata": {},
   "outputs": [],
   "source": [
    "import numpy as np\n",
    "import pandas as pd\n",
    "import matplotlib.pyplot as plt\n",
    "import sklearn\n",
    "from sklearn.datasets.samples_generator import make_blobs"
   ]
  },
  {
   "cell_type": "markdown",
   "metadata": {},
   "source": [
    "# 1. Sigmoid Function"
   ]
  },
  {
   "cell_type": "code",
   "execution_count": 2,
   "metadata": {},
   "outputs": [],
   "source": [
    "def sigmoid(x):\n",
    "    y = 1 / (1 + np.exp(-x))\n",
    "    return y"
   ]
  },
  {
   "cell_type": "code",
   "execution_count": 3,
   "metadata": {},
   "outputs": [],
   "source": [
    "x = np.linspace(-10, 10, 1000)"
   ]
  },
  {
   "cell_type": "code",
   "execution_count": 4,
   "metadata": {},
   "outputs": [],
   "source": [
    "y = sigmoid(x)"
   ]
  },
  {
   "cell_type": "code",
   "execution_count": 5,
   "metadata": {},
   "outputs": [
    {
     "data": {
      "text/plain": [
       "[<matplotlib.lines.Line2D at 0x7f2412aeedd8>]"
      ]
     },
     "execution_count": 5,
     "metadata": {},
     "output_type": "execute_result"
    },
    {
     "data": {
      "image/png": "[encoded data removed]",
      "text/plain": [
       "<Figure size 432x288 with 1 Axes>"
      ]
     },
     "metadata": {
      "needs_background": "light"
     },
     "output_type": "display_data"
    }
   ],
   "source": [
    "plt.plot(x, y)"
   ]
  },
  {
   "cell_type": "markdown",
   "metadata": {},
   "source": [
    "# 2. Implement Logistic Regression"
   ]
  },
  {
   "cell_type": "markdown",
   "metadata": {},
   "source": [
    "## 2.1 Make a Dataset"
   ]
  },
  {
   "cell_type": "markdown",
   "metadata": {},
   "source": [
    "Make a dataset of two classes \"0\" and \"1\", each with 100 data points."
   ]
  },
  {
   "cell_type": "code",
   "execution_count": 6,
   "metadata": {},
   "outputs": [
    {
     "data": {
      "image/png": "[encoded data removed]",
      "text/plain": [
       "<Figure size 432x288 with 1 Axes>"
      ]
     },
     "metadata": {
      "needs_background": "light"
     },
     "output_type": "display_data"
    }
   ],
   "source": [
    "# generate 2d classification dataset\n",
    "X, y = make_blobs(n_samples=200, centers=2, n_features=2, random_state=1)\n",
    "# scatter plot, dots colored by class value\n",
    "df = pd.DataFrame(dict(x1=X[:,0], x2=X[:,1], y=y))\n",
    "colors = {0:'red', 1:'blue'}\n",
    "fig, ax = plt.subplots()\n",
    "grouped = df.groupby('y')\n",
    "for key, group in grouped:\n",
    "    group.plot(ax=ax, kind='scatter', x='x1', y='x2', label=key, color=colors[key])\n",
    "plt.show()"
   ]
  },
  {
   "cell_type": "code",
   "execution_count": 7,
   "metadata": {},
   "outputs": [
    {
     "data": {
      "text/plain": [
       "array([[-1.08278844e+01, -4.83392615e+00],\n",
       "       [-1.11800306e+01, -4.61910307e+00],\n",
       "       [-1.05552072e+01, -3.01417980e+00],\n",
       "       [-1.42706535e+00,  5.08904128e+00],\n",
       "       [-8.16299488e+00, -3.38896569e+00],\n",
       "       [-8.18717759e+00, -5.25907547e+00],\n",
       "       [-1.37397258e+00,  5.29163103e+00],\n",
       "       [-1.18708735e+01, -3.03273343e+00],\n",
       "       [-2.41395785e+00,  5.65935802e+00],\n",
       "       [-9.63138049e+00, -4.99793793e+00],\n",
       "       [-1.01659113e+01, -4.12752889e+00],\n",
       "       [-1.16484338e+01, -4.84390413e+00],\n",
       "       [-1.15637509e+00,  5.69971575e+00],\n",
       "       [-1.37889483e+00,  4.33337717e+00],\n",
       "       [-1.01336898e+01, -4.75061833e+00],\n",
       "       [-1.27907975e+01, -2.01581973e+00],\n",
       "       [-9.72121320e+00, -4.68662015e+00],\n",
       "       [-1.08749940e+01, -4.82113577e+00],\n",
       "       [-1.49952284e+00,  5.28265879e+00],\n",
       "       [-8.88332953e+00, -4.53987249e+00],\n",
       "       [-8.54628324e+00, -4.57138540e+00],\n",
       "       [-1.09947323e+01, -4.06014253e+00],\n",
       "       [-1.03242120e+01, -5.29602434e+00],\n",
       "       [-5.25790464e-01,  3.30659860e+00],\n",
       "       [-8.66753040e-01,  3.78295914e+00],\n",
       "       [-2.77687025e+00,  4.64090557e+00],\n",
       "       [-1.35938959e+00,  4.05424002e+00],\n",
       "       [-2.17665436e+00,  3.40946304e+00],\n",
       "       [-1.01136977e+01, -4.12880752e+00],\n",
       "       [-9.16170778e+00, -2.40998944e+00],\n",
       "       [-9.34313235e+00, -4.00453699e+00],\n",
       "       [-1.07035530e+01, -2.76066248e+00],\n",
       "       [-1.00051011e+00,  2.77905153e+00],\n",
       "       [-1.03426997e+01, -4.18418829e+00],\n",
       "       [-1.04093517e+01, -2.67482046e+00],\n",
       "       [-4.99221336e-01,  4.77598259e+00],\n",
       "       [-9.79490066e-01,  4.08668827e+00],\n",
       "       [-1.13898357e+00,  3.26214848e+00],\n",
       "       [-9.53654840e+00, -5.12933122e+00],\n",
       "       [-9.75504306e+00, -3.75151837e+00],\n",
       "       [-2.88961804e+00,  4.95702736e+00],\n",
       "       [-3.10367371e+00,  3.90202401e+00],\n",
       "       [-1.13042466e+01, -3.87696807e+00],\n",
       "       [-1.34052081e+00,  4.15711949e+00],\n",
       "       [-1.07796242e+01, -4.39085753e+00],\n",
       "       [-1.12174569e+01, -1.50397990e+00],\n",
       "       [-2.18773166e+00,  3.33352125e+00],\n",
       "       [-6.96685539e+00, -3.12876392e+00],\n",
       "       [-1.09679881e+00,  4.64722696e+00],\n",
       "       [-2.27956075e+00,  5.10452190e+00],\n",
       "       [-9.20268641e+00, -4.32778687e+00],\n",
       "       [-9.97584967e+00, -4.42202236e+00],\n",
       "       [-5.38142198e-01,  4.81539041e+00],\n",
       "       [-3.19091528e-02,  4.74450157e+00],\n",
       "       [-3.28102793e-01,  4.11918201e+00],\n",
       "       [ 8.52518583e-02,  3.64528297e+00],\n",
       "       [-1.46864442e+00,  6.50674501e+00],\n",
       "       [-1.05600179e+01, -1.99847047e+00],\n",
       "       [-1.41076074e+00,  4.10984872e+00],\n",
       "       [-9.99960399e+00, -5.34996897e+00],\n",
       "       [-1.07233096e+01, -4.82111722e+00],\n",
       "       [-9.58041050e+00, -3.16857790e+00],\n",
       "       [-1.69825542e+00,  2.79071751e+00],\n",
       "       [-9.84144865e+00, -4.14356957e+00],\n",
       "       [-1.12345659e+01, -3.07750962e+00],\n",
       "       [-1.04464505e+01, -4.62579659e+00],\n",
       "       [-9.98435983e+00, -4.64804214e+00],\n",
       "       [-2.03484486e+00,  3.76775946e+00],\n",
       "       [-1.11168279e+01, -1.99726964e+00],\n",
       "       [-8.38076290e+00, -3.45060767e+00],\n",
       "       [-1.92744799e+00,  4.93684534e+00],\n",
       "       [-6.20735304e-01,  6.59346952e+00],\n",
       "       [-1.04959261e+01, -4.26433353e+00],\n",
       "       [-8.43890696e+00, -3.84394585e+00],\n",
       "       [-1.01842915e+01, -4.01017303e+00],\n",
       "       [-1.09531378e+01, -3.36743812e+00],\n",
       "       [-1.98197711e+00,  4.02243551e+00],\n",
       "       [-1.13296642e+01, -5.71403711e+00],\n",
       "       [-1.96967668e+00,  1.97165210e+00],\n",
       "       [-1.09316272e+01, -4.48636887e+00],\n",
       "       [-1.61589091e+00,  4.18017563e+00],\n",
       "       [-7.58703957e-01,  3.72276201e+00],\n",
       "       [-9.33669222e+00, -2.16119034e+00],\n",
       "       [-1.14242679e+01, -2.18538860e+00],\n",
       "       [-1.21819546e+00,  4.30633464e+00],\n",
       "       [-1.02341495e+01, -3.22553505e+00],\n",
       "       [-1.61734616e+00,  4.98930508e+00],\n",
       "       [-1.30901393e+00,  3.09420646e+00],\n",
       "       [-8.20576492e-01,  5.33759195e+00],\n",
       "       [ 5.31139823e-01,  2.51012895e+00],\n",
       "       [-9.55954616e+00, -2.83102023e+00],\n",
       "       [-3.03267723e+00,  4.72164926e+00],\n",
       "       [-9.41306589e+00, -3.62907430e+00],\n",
       "       [-1.64215050e+00,  3.28447114e+00],\n",
       "       [-2.30647659e+00,  5.30797676e+00],\n",
       "       [-9.37972697e+00, -4.13752487e+00],\n",
       "       [-1.17104176e+00,  4.33091816e+00],\n",
       "       [-1.06981110e+01, -4.15674300e+00],\n",
       "       [-7.93192918e+00, -5.42450547e+00],\n",
       "       [-1.68417686e+00,  3.63132825e+00],\n",
       "       [-1.02356544e+01, -2.79806066e+00],\n",
       "       [-1.53940095e+00,  5.02369298e+00],\n",
       "       [-2.85882794e+00,  5.26983519e+00],\n",
       "       [-1.06990569e+01, -4.49057157e+00],\n",
       "       [-1.97451969e-01,  2.34634916e+00],\n",
       "       [-2.76017908e+00,  5.55121358e+00],\n",
       "       [-1.77000693e+00,  3.78912781e+00],\n",
       "       [-4.60642026e-01,  4.59164629e+00],\n",
       "       [-1.23606555e+00,  4.48382994e+00],\n",
       "       [-9.98118494e+00, -3.77616083e+00],\n",
       "       [-1.60875215e+00,  3.76949422e+00],\n",
       "       [-1.13009458e+00,  4.54419108e+00],\n",
       "       [ 2.45098802e-01,  5.51754657e+00],\n",
       "       [-1.01181771e+01, -5.18646928e+00],\n",
       "       [-1.16434858e+00,  4.23178671e+00],\n",
       "       [-9.14500844e+00, -3.91798845e+00],\n",
       "       [-1.25041532e+01, -6.06751247e+00],\n",
       "       [-1.10195984e+01, -3.15882031e+00],\n",
       "       [-2.75447175e+00,  4.57587230e+00],\n",
       "       [-1.04399418e+01, -3.62982119e+00],\n",
       "       [-1.00822205e+01, -4.25071043e+00],\n",
       "       [-9.71296439e+00, -3.69088110e+00],\n",
       "       [-1.84612968e+00,  4.30474400e+00],\n",
       "       [-1.46126019e+00,  4.52549851e+00],\n",
       "       [-1.53773863e+00,  5.53597378e+00],\n",
       "       [-1.04730854e+01, -3.47573837e+00],\n",
       "       [-9.37917337e+00, -4.39652048e+00],\n",
       "       [-1.00330804e+01, -1.84274349e+00],\n",
       "       [-1.25606826e+00,  5.00006839e+00],\n",
       "       [-9.93696231e+00, -3.74222379e+00],\n",
       "       [-1.83198811e+00,  3.52863145e+00],\n",
       "       [-5.27930518e-01,  5.92630669e+00],\n",
       "       [-9.50537595e+00, -4.63402669e+00],\n",
       "       [-1.14385885e+01, -2.72109548e+00],\n",
       "       [-1.02518924e+01, -2.55350460e+00],\n",
       "       [-1.96576392e+00,  5.23446451e+00],\n",
       "       [-2.34673261e+00,  3.56128423e+00],\n",
       "       [-1.20349137e+01, -5.89593773e+00],\n",
       "       [-8.48608233e-01,  5.45093196e+00],\n",
       "       [-9.48263889e+00, -6.73588302e+00],\n",
       "       [ 2.42271161e-04,  5.14853403e+00],\n",
       "       [-1.05434867e+01, -4.15218641e+00],\n",
       "       [-9.90228742e+00, -3.03189848e+00],\n",
       "       [-9.37590900e+00, -4.55315308e+00],\n",
       "       [-1.02768102e+01, -2.33049946e+00],\n",
       "       [-7.94152277e-01,  2.10495117e+00],\n",
       "       [-1.19410359e+01, -3.60085418e+00],\n",
       "       [-2.00341358e+00,  4.45008673e+00],\n",
       "       [-2.33022219e+00,  4.78405366e+00],\n",
       "       [-1.84048021e+00,  3.80256924e+00],\n",
       "       [-1.85139546e+00,  3.51886090e+00],\n",
       "       [-2.93211866e+00,  4.72003759e+00],\n",
       "       [-8.87430034e+00, -3.64808151e+00],\n",
       "       [-1.42946517e+00,  5.16850105e+00],\n",
       "       [-9.19003455e-01,  3.45278927e+00],\n",
       "       [-2.40671820e+00,  6.09894447e+00],\n",
       "       [-7.90673749e-01,  5.15690151e+00],\n",
       "       [-3.85803976e-01,  6.37359162e+00],\n",
       "       [-1.47299851e+00,  4.81654152e+00],\n",
       "       [-1.11141825e+01, -3.87242145e+00],\n",
       "       [-9.14443128e+00, -4.36637786e+00],\n",
       "       [-8.13399258e-01,  3.54697393e+00],\n",
       "       [-1.17536381e+01, -3.23855895e+00],\n",
       "       [-9.89148978e+00, -5.47902886e+00],\n",
       "       [-2.80207810e+00,  4.05714715e+00],\n",
       "       [-2.06043810e+00,  5.23049549e+00],\n",
       "       [-1.01927698e+01, -3.14795512e+00],\n",
       "       [-7.94653906e+00, -3.36768655e+00],\n",
       "       [-6.73224718e-01,  4.62002377e+00],\n",
       "       [-1.86845414e+00,  4.99311306e+00],\n",
       "       [-1.15365057e+01, -4.40124373e+00],\n",
       "       [-1.78245013e+00,  3.47072043e+00],\n",
       "       [-1.34392496e+00,  2.38428865e+00],\n",
       "       [ 8.68765801e-01,  4.15785509e+00],\n",
       "       [-3.51754177e+00,  5.64265390e+00],\n",
       "       [-1.01077040e+01, -3.94479960e+00],\n",
       "       [-1.79600465e+00,  4.28743568e+00],\n",
       "       [-2.35122066e+00,  4.00973634e+00],\n",
       "       [ 5.26015501e-01,  3.00999353e+00],\n",
       "       [-9.23890684e+00, -3.06843973e+00],\n",
       "       [-1.05724063e+00,  4.82677207e+00],\n",
       "       [-9.71503679e+00, -4.77944598e+00],\n",
       "       [-1.88188805e+00,  4.20573180e+00],\n",
       "       [-8.57698874e-01,  4.45305717e+00],\n",
       "       [-1.58173878e+00,  5.02487013e+00],\n",
       "       [-9.37662980e+00, -2.99722684e+00],\n",
       "       [-8.60893311e+00, -4.61469279e+00],\n",
       "       [-8.98758533e+00, -3.03333061e+00],\n",
       "       [-9.37435033e+00, -4.38830523e+00],\n",
       "       [-2.10668847e+00,  5.63099757e+00],\n",
       "       [-1.16719083e+01, -3.12831872e+00],\n",
       "       [-1.08590289e+01, -3.27863702e+00],\n",
       "       [-1.92577841e+00,  4.43910442e+00],\n",
       "       [-7.85988444e+00, -4.73888254e+00],\n",
       "       [-8.59017250e+00, -3.82424697e+00],\n",
       "       [-9.86366431e+00, -2.75129369e+00],\n",
       "       [-1.14663009e+00,  4.10839703e+00],\n",
       "       [-2.33080604e+00,  4.39382527e+00],\n",
       "       [-9.56818636e+00, -4.56034695e+00],\n",
       "       [-7.57969185e-01,  4.90898421e+00]])"
      ]
     },
     "execution_count": 7,
     "metadata": {},
     "output_type": "execute_result"
    }
   ],
   "source": [
    "X"
   ]
  },
  {
   "cell_type": "code",
   "execution_count": 8,
   "metadata": {},
   "outputs": [
    {
     "data": {
      "text/html": [
       "<div>\n",
       "<style scoped>\n",
       "    .dataframe tbody tr th:only-of-type {\n",
       "        vertical-align: middle;\n",
       "    }\n",
       "\n",
       "    .dataframe tbody tr th {\n",
       "        vertical-align: top;\n",
       "    }\n",
       "\n",
       "    .dataframe thead th {\n",
       "        text-align: right;\n",
       "    }\n",
       "</style>\n",
       "<table border=\"1\" class=\"dataframe\">\n",
       "  <thead>\n",
       "    <tr style=\"text-align: right;\">\n",
       "      <th></th>\n",
       "      <th>x1</th>\n",
       "      <th>x2</th>\n",
       "      <th>y</th>\n",
       "    </tr>\n",
       "  </thead>\n",
       "  <tbody>\n",
       "    <tr>\n",
       "      <th>0</th>\n",
       "      <td>-10.827884</td>\n",
       "      <td>-4.833926</td>\n",
       "      <td>1</td>\n",
       "    </tr>\n",
       "    <tr>\n",
       "      <th>1</th>\n",
       "      <td>-11.180031</td>\n",
       "      <td>-4.619103</td>\n",
       "      <td>1</td>\n",
       "    </tr>\n",
       "    <tr>\n",
       "      <th>2</th>\n",
       "      <td>-10.555207</td>\n",
       "      <td>-3.014180</td>\n",
       "      <td>1</td>\n",
       "    </tr>\n",
       "    <tr>\n",
       "      <th>3</th>\n",
       "      <td>-1.427065</td>\n",
       "      <td>5.089041</td>\n",
       "      <td>0</td>\n",
       "    </tr>\n",
       "    <tr>\n",
       "      <th>4</th>\n",
       "      <td>-8.162995</td>\n",
       "      <td>-3.388966</td>\n",
       "      <td>1</td>\n",
       "    </tr>\n",
       "    <tr>\n",
       "      <th>5</th>\n",
       "      <td>-8.187178</td>\n",
       "      <td>-5.259075</td>\n",
       "      <td>1</td>\n",
       "    </tr>\n",
       "    <tr>\n",
       "      <th>6</th>\n",
       "      <td>-1.373973</td>\n",
       "      <td>5.291631</td>\n",
       "      <td>0</td>\n",
       "    </tr>\n",
       "    <tr>\n",
       "      <th>7</th>\n",
       "      <td>-11.870873</td>\n",
       "      <td>-3.032733</td>\n",
       "      <td>1</td>\n",
       "    </tr>\n",
       "    <tr>\n",
       "      <th>8</th>\n",
       "      <td>-2.413958</td>\n",
       "      <td>5.659358</td>\n",
       "      <td>0</td>\n",
       "    </tr>\n",
       "    <tr>\n",
       "      <th>9</th>\n",
       "      <td>-9.631380</td>\n",
       "      <td>-4.997938</td>\n",
       "      <td>1</td>\n",
       "    </tr>\n",
       "    <tr>\n",
       "      <th>10</th>\n",
       "      <td>-10.165911</td>\n",
       "      <td>-4.127529</td>\n",
       "      <td>1</td>\n",
       "    </tr>\n",
       "    <tr>\n",
       "      <th>11</th>\n",
       "      <td>-11.648434</td>\n",
       "      <td>-4.843904</td>\n",
       "      <td>1</td>\n",
       "    </tr>\n",
       "    <tr>\n",
       "      <th>12</th>\n",
       "      <td>-1.156375</td>\n",
       "      <td>5.699716</td>\n",
       "      <td>0</td>\n",
       "    </tr>\n",
       "    <tr>\n",
       "      <th>13</th>\n",
       "      <td>-1.378895</td>\n",
       "      <td>4.333377</td>\n",
       "      <td>0</td>\n",
       "    </tr>\n",
       "    <tr>\n",
       "      <th>14</th>\n",
       "      <td>-10.133690</td>\n",
       "      <td>-4.750618</td>\n",
       "      <td>1</td>\n",
       "    </tr>\n",
       "    <tr>\n",
       "      <th>15</th>\n",
       "      <td>-12.790798</td>\n",
       "      <td>-2.015820</td>\n",
       "      <td>1</td>\n",
       "    </tr>\n",
       "    <tr>\n",
       "      <th>16</th>\n",
       "      <td>-9.721213</td>\n",
       "      <td>-4.686620</td>\n",
       "      <td>1</td>\n",
       "    </tr>\n",
       "    <tr>\n",
       "      <th>17</th>\n",
       "      <td>-10.874994</td>\n",
       "      <td>-4.821136</td>\n",
       "      <td>1</td>\n",
       "    </tr>\n",
       "    <tr>\n",
       "      <th>18</th>\n",
       "      <td>-1.499523</td>\n",
       "      <td>5.282659</td>\n",
       "      <td>0</td>\n",
       "    </tr>\n",
       "    <tr>\n",
       "      <th>19</th>\n",
       "      <td>-8.883330</td>\n",
       "      <td>-4.539872</td>\n",
       "      <td>1</td>\n",
       "    </tr>\n",
       "  </tbody>\n",
       "</table>\n",
       "</div>"
      ],
      "text/plain": [
       "           x1        x2  y\n",
       "0  -10.827884 -4.833926  1\n",
       "1  -11.180031 -4.619103  1\n",
       "2  -10.555207 -3.014180  1\n",
       "3   -1.427065  5.089041  0\n",
       "4   -8.162995 -3.388966  1\n",
       "5   -8.187178 -5.259075  1\n",
       "6   -1.373973  5.291631  0\n",
       "7  -11.870873 -3.032733  1\n",
       "8   -2.413958  5.659358  0\n",
       "9   -9.631380 -4.997938  1\n",
       "10 -10.165911 -4.127529  1\n",
       "11 -11.648434 -4.843904  1\n",
       "12  -1.156375  5.699716  0\n",
       "13  -1.378895  4.333377  0\n",
       "14 -10.133690 -4.750618  1\n",
       "15 -12.790798 -2.015820  1\n",
       "16  -9.721213 -4.686620  1\n",
       "17 -10.874994 -4.821136  1\n",
       "18  -1.499523  5.282659  0\n",
       "19  -8.883330 -4.539872  1"
      ]
     },
     "execution_count": 8,
     "metadata": {},
     "output_type": "execute_result"
    }
   ],
   "source": [
    "# Check the top 20 rows\n",
    "df.head(20)"
   ]
  },
  {
   "cell_type": "code",
   "execution_count": 9,
   "metadata": {},
   "outputs": [
    {
     "data": {
      "text/plain": [
       "(200, 3)"
      ]
     },
     "execution_count": 9,
     "metadata": {},
     "output_type": "execute_result"
    }
   ],
   "source": [
    "df.shape"
   ]
  },
  {
   "cell_type": "markdown",
   "metadata": {},
   "source": [
    "## 2.2 Implement the Model Class"
   ]
  },
  {
   "cell_type": "code",
   "execution_count": 10,
   "metadata": {},
   "outputs": [],
   "source": [
    "class lr_model():\n",
    "    def __init__(self, X, y):\n",
    "        self.X = X\n",
    "        self.y = y\n",
    "        \n",
    "        self.n_rows = self.X.shape[0]\n",
    "        self.n_features = self.X.shape[1]\n",
    "        \n",
    "        self.bias = 0\n",
    "        self.betas = np.zeros(self.n_features)      \n",
    "                \n",
    "        \n",
    "    def train(self, n_epochs=10, learning_rate=0.3):\n",
    "        self.n_epochs = n_epochs\n",
    "        self.learning_rate = learning_rate\n",
    "                \n",
    "        for epoch in range(self.n_epochs):\n",
    "            for row in range(self.n_rows):\n",
    "                x = self.X[row]\n",
    "                y_true = self.y[row]\n",
    "                linear_combination = self.bias * 1 + self.betas.dot(x)\n",
    "                y_pred = 1 / (1 + np.exp(-linear_combination))\n",
    "                self.bias += self.learning_rate * (y_true - y_pred) * y_pred * (1 - y_pred)\n",
    "                self.betas += self.learning_rate * (y_true - y_pred) * y_pred * (1 - y_pred) * x\n",
    "                \n",
    "    \n",
    "    def predict(self, x):\n",
    "        linear_combination = self.bias * 1 + self.betas.dot(x)\n",
    "        y_pred = 1 / (1 + np.exp(-linear_combination))\n",
    "        pred = 1 if y_pred >= .5 else 0\n",
    "        return pred    "
   ]
  },
  {
   "cell_type": "markdown",
   "metadata": {},
   "source": [
    "## 2.3 Train and Test the Model"
   ]
  },
  {
   "cell_type": "code",
   "execution_count": 11,
   "metadata": {},
   "outputs": [],
   "source": [
    "# Instantiate the model class\n",
    "lr = lr_model(X, y)\n",
    "# Train the modelo\n",
    "lr.train()"
   ]
  },
  {
   "cell_type": "code",
   "execution_count": 12,
   "metadata": {},
   "outputs": [
    {
     "data": {
      "text/plain": [
       "array([ 37, 140,  72, 137, 133,  79, 192, 144, 129,  71])"
      ]
     },
     "execution_count": 12,
     "metadata": {},
     "output_type": "execute_result"
    }
   ],
   "source": [
    "# Randomly grab 3 samples and make predictions\n",
    "np.random.seed(1)\n",
    "random_idx = np.random.randint(200, size=10)\n",
    "random_idx"
   ]
  },
  {
   "cell_type": "code",
   "execution_count": 13,
   "metadata": {},
   "outputs": [
    {
     "name": "stdout",
     "output_type": "stream",
     "text": [
      "The prediction is: 0, the true label is: 0\n",
      "The prediction is: 0, the true label is: 0\n",
      "The prediction is: 1, the true label is: 1\n",
      "The prediction is: 1, the true label is: 1\n",
      "The prediction is: 1, the true label is: 1\n",
      "The prediction is: 1, the true label is: 1\n",
      "The prediction is: 0, the true label is: 0\n",
      "The prediction is: 1, the true label is: 1\n",
      "The prediction is: 1, the true label is: 1\n",
      "The prediction is: 0, the true label is: 0\n"
     ]
    }
   ],
   "source": [
    "y_pred_lst, y_true_lst = [], [] \n",
    "\n",
    "for idx in random_idx:\n",
    "    y_pred = lr.predict(X[idx])\n",
    "    y_true = y[idx]\n",
    "    print(f'The prediction is: {y_pred}, the true label is: {y_true}')    \n",
    "    y_pred_lst.append(y_pred)\n",
    "    y_true_lst.append(y_true)\n",
    "\n",
    "y_pred = np.array(y_pred_lst)\n",
    "y_true = np.array(y_true_lst)"
   ]
  },
  {
   "cell_type": "code",
   "execution_count": 14,
   "metadata": {},
   "outputs": [
    {
     "data": {
      "text/plain": [
       "(array([0, 0, 1, 1, 1, 1, 0, 1, 1, 0]), array([0, 0, 1, 1, 1, 1, 0, 1, 1, 0]))"
      ]
     },
     "execution_count": 14,
     "metadata": {},
     "output_type": "execute_result"
    }
   ],
   "source": [
    "y_pred, y_true"
   ]
  },
  {
   "cell_type": "code",
   "execution_count": 15,
   "metadata": {},
   "outputs": [
    {
     "name": "stdout",
     "output_type": "stream",
     "text": [
      "The prediction accuracy is: 100.00%\n"
     ]
    }
   ],
   "source": [
    "acc = (y_pred == y_true).sum()/len(y_true)\n",
    "print(f'The prediction accuracy is: {acc:0.2%}')"
   ]
  },
  {
   "cell_type": "markdown",
   "metadata": {},
   "source": [
    "# 3. Model with sklearn"
   ]
  },
  {
   "cell_type": "code",
   "execution_count": 16,
   "metadata": {},
   "outputs": [
    {
     "name": "stdout",
     "output_type": "stream",
     "text": [
      "The prediction accuracy is: 100.00%\n"
     ]
    },
    {
     "name": "stderr",
     "output_type": "stream",
     "text": [
      "/home/george/anaconda3/lib/python3.7/site-packages/sklearn/linear_model/logistic.py:433: FutureWarning: Default solver will be changed to 'lbfgs' in 0.22. Specify a solver to silence this warning.\n",
      "  FutureWarning)\n"
     ]
    }
   ],
   "source": [
    "from sklearn.linear_model import LogisticRegression\n",
    "clf = LogisticRegression(random_state=1).fit(X, y)\n",
    "\n",
    "y_pred = clf.predict(X[random_idx])\n",
    "y_true = y[random_idx]\n",
    "\n",
    "acc = (y_pred == y_true).sum()/len(y_true)\n",
    "print(f'The prediction accuracy is: {acc:0.2%}')"
   ]
  },
  {
   "cell_type": "markdown",
   "metadata": {},
   "source": [
    "## Reference\n",
    "- [How to Generate Test Datasets in Python with scikit-learn](https://machinelearningmastery.com/generate-test-datasets-python-scikit-learn/)\n",
    "- [Master Machine Learning Algorithms](https://machinelearningmastery.com/master-machine-learning-algorithms/)- "
   ]
  }
 ],
 "metadata": {
  "kernelspec": {
   "display_name": "Python 3",
   "language": "python",
   "name": "python3"
  },
  "language_info": {
   "codemirror_mode": {
    "name": "ipython",
    "version": 3
   },
   "file_extension": ".py",
   "mimetype": "text/x-python",
   "name": "python",
   "nbconvert_exporter": "python",
   "pygments_lexer": "ipython3",
   "version": "3.7.3"
  }
 },
 "nbformat": 4,
 "nbformat_minor": 2
}
