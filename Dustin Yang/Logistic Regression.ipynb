{
 "cells": [
  {
   "cell_type": "markdown",
   "metadata": {},
   "source": [
    "## Learning Overview & Session Takeaways"
   ]
  },
  {
   "cell_type": "markdown",
   "metadata": {},
   "source": [
    "The objective of this session is to build an understanding of logistic regression and how to implement it.\n",
    "\n",
    "Concretely, by the end of this session, you will be able to:\n",
    "    1. explain the concept of classification in machine learning (ML)\n",
    "    2. articulate the difference between linear and logistic regression\n",
    "    3. define logistic regression\n",
    "    4. understand logistic regression's cost function and the gradient descent optimization procedure\n",
    "    5. determine what metrics to evaluate the performance of logistic regression\n",
    "    6. implement logistic regression in scikit-learn"
   ]
  },
  {
   "cell_type": "markdown",
   "metadata": {},
   "source": [
    "## What is Classification?"
   ]
  },
  {
   "cell_type": "markdown",
   "metadata": {},
   "source": [
    "In the domain of supervised machine learning, there are two main problems:\n",
    "    1. Regression\n",
    "    2. Classification\n",
    "\n",
    "Regression problems deal with the prediction of continuous outcomes. Some examples of regression problems are predicting:\n",
    "    - real number outcomes: profits\n",
    "    - real number positive outcomes: stock prices\n",
    "    - integer outcomes: number of products purchased\n",
    "\n",
    "Classification problems, on the other hand, deal with the the prediction of a categorical outcome. Some examples of classification problems are predicting:\n",
    "    - binary outcomes: will a borrower default on a loan\n",
    "    - multi-class outcomes: whether an image contains a dog, cat or bear \n",
    "    - multi-label outcomes: topics in a document (e.g. religion, science, crime, weather)\n",
    "    - ordinal outcomes: customer satisfaction rating (e.g. 1-star, 2-star, etc)\n",
    "    \n",
    "For the purpose of this session, we will be focusing on binary outcome prediction problems."
   ]
  },
  {
   "cell_type": "markdown",
   "metadata": {},
   "source": [
    "## Binary Classification: Linear or Logistic Regression?"
   ]
  },
  {
   "cell_type": "markdown",
   "metadata": {},
   "source": [
    "To understand why someone might use linear regression for a binary classification problem, one only needs to look at what a typical binary classification dataset looks like."
   ]
  },
  {
   "cell_type": "code",
   "execution_count": 1,
   "metadata": {},
   "outputs": [
    {
     "data": {
      "text/html": [
       "<div>\n",
       "<style scoped>\n",
       "    .dataframe tbody tr th:only-of-type {\n",
       "        vertical-align: middle;\n",
       "    }\n",
       "\n",
       "    .dataframe tbody tr th {\n",
       "        vertical-align: top;\n",
       "    }\n",
       "\n",
       "    .dataframe thead th {\n",
       "        text-align: right;\n",
       "    }\n",
       "</style>\n",
       "<table border=\"1\" class=\"dataframe\">\n",
       "  <thead>\n",
       "    <tr style=\"text-align: right;\">\n",
       "      <th></th>\n",
       "      <th>Y</th>\n",
       "      <th>X1</th>\n",
       "      <th>X2</th>\n",
       "    </tr>\n",
       "  </thead>\n",
       "  <tbody>\n",
       "    <tr>\n",
       "      <th>0</th>\n",
       "      <td>1.0</td>\n",
       "      <td>-0.322785</td>\n",
       "      <td>-1.323072</td>\n",
       "    </tr>\n",
       "    <tr>\n",
       "      <th>1</th>\n",
       "      <td>0.0</td>\n",
       "      <td>-0.959459</td>\n",
       "      <td>2.255321</td>\n",
       "    </tr>\n",
       "    <tr>\n",
       "      <th>2</th>\n",
       "      <td>0.0</td>\n",
       "      <td>-1.782441</td>\n",
       "      <td>1.528056</td>\n",
       "    </tr>\n",
       "    <tr>\n",
       "      <th>3</th>\n",
       "      <td>0.0</td>\n",
       "      <td>-1.501145</td>\n",
       "      <td>-2.681421</td>\n",
       "    </tr>\n",
       "    <tr>\n",
       "      <th>4</th>\n",
       "      <td>0.0</td>\n",
       "      <td>-0.340096</td>\n",
       "      <td>-4.730189</td>\n",
       "    </tr>\n",
       "  </tbody>\n",
       "</table>\n",
       "</div>"
      ],
      "text/plain": [
       "     Y        X1        X2\n",
       "0  1.0 -0.322785 -1.323072\n",
       "1  0.0 -0.959459  2.255321\n",
       "2  0.0 -1.782441  1.528056\n",
       "3  0.0 -1.501145 -2.681421\n",
       "4  0.0 -0.340096 -4.730189"
      ]
     },
     "metadata": {},
     "output_type": "display_data"
    }
   ],
   "source": [
    "import pandas as pd\n",
    "from IPython.display import display\n",
    "demo_data = pd.read_csv('./Data/demo/demo.csv')\n",
    "display(demo_data.head())"
   ]
  },
  {
   "cell_type": "markdown",
   "metadata": {},
   "source": [
    "***Y*** is the target that we are interested in predicting; it has only two possible values: 1.0 or 0.0. This might strike someone as a regression problem suitable for linear regression. Suppose that we proceed to fit a linear regression model to the data."
   ]
  },
  {
   "cell_type": "code",
   "execution_count": 6,
   "metadata": {},
   "outputs": [],
   "source": [
    "from sklearn.linear_model import LinearRegression\n",
    "X = demo_data[['X1', 'X2']].values\n",
    "y = demo_data['Y'].values\n",
    "lin_model = LinearRegression() #initialize a linear regression model\n",
    "lin_model.fit(X,y) # fit the model\n",
    "predicted_values = lin_model.predict(X) # get predictions\n",
    "demo_data['Y_hat'] = predicted_values"
   ]
  },
  {
   "cell_type": "code",
   "execution_count": null,
   "metadata": {},
   "outputs": [],
   "source": [
    "import seaborn as sns\n",
    "sns.scatterplot(x = 'X1', y = 'Y', data = demo_data)\n",
    "plot = sns.lineplot(x = 'X1', y = 'Y_hat', data = demo_data)\n",
    "plot.get_figure().savefig('./LR problem')"
   ]
  },
  {
   "cell_type": "markdown",
   "metadata": {},
   "source": [
    "Let's examine the predictions to see if anything is amiss."
   ]
  },
  {
   "cell_type": "code",
   "execution_count": 3,
   "metadata": {},
   "outputs": [
    {
     "name": "stdout",
     "output_type": "stream",
     "text": [
      "The maximum predicted value is: 1.46\n",
      "The minimum predicted value is: -0.6\n"
     ]
    }
   ],
   "source": [
    "print('The maximum predicted value is: %s' %(str(round(max(predicted_values),2))))\n",
    "print('The minimum predicted value is: %s' %(str(round(min(predicted_values),2))))"
   ]
  },
  {
   "cell_type": "markdown",
   "metadata": {},
   "source": [
    "Immediately, we notice that linear regression produces predictions that exceed the range of 0.0 and 1.0.\n",
    "\n",
    "This is undesirable as it becomes difficult to interpret the predicted value:\n",
    "    - What does it mean to have a prediction that exceeds 1.0 or is lower than 0.0? \n",
    "    - What about values between 0.0 and 1.0? Are they probabilities?\n",
    "\n",
    "Related to the first issue is the lack of meaning in the coefficients of the linear regression model."
   ]
  },
  {
   "cell_type": "markdown",
   "metadata": {},
   "source": [
    "## Logistic Regression to the Rescue"
   ]
  },
  {
   "cell_type": "markdown",
   "metadata": {},
   "source": [
    "### Desirable Properties"
   ]
  },
  {
   "cell_type": "markdown",
   "metadata": {},
   "source": [
    "For any classification model, it is desirable to have two properties:\n",
    "    1. predictions are bounded in the range of 0.0 to 1.0\n",
    "    2. predictions represent the probability of a data instance belonging to the class labelled as 1.0\n",
    "\n",
    "Previously, it has been shown that linear regression does not possess the above properties. However, logistic regression does."
   ]
  },
  {
   "cell_type": "markdown",
   "metadata": {},
   "source": [
    "### Mathematical Definition"
   ]
  },
  {
   "cell_type": "markdown",
   "metadata": {},
   "source": [
    "Logistic regression estimates the log-odds of the event that $Y=1$:\n",
    "$$l =\\ln(\\frac{p}{1-p}) =\\beta_{0}+\\sum_{k=1}^m\\beta_{k}x_{k}$$\n",
    "\n",
    "where $p$ is defined as defined as the probability of the data instance belonging to the class labelled as 1.0 or $Pr(Y=1)$.\n",
    "\n",
    "Using the log-odds ($l$), we can easily recover $p$.\n",
    "\n",
    "First, exponentiate both sides:\n",
    "$${\n",
    "e^{(\\ln(\\frac{p}{1-p}))}  \\\\\n",
    "=\\frac{p}{1-p}  \\\\\n",
    "=e^{\\beta_{0}+\\sum_{k=1}^m\\beta_{k}x_{k}}\n",
    "}$$\n",
    "\n",
    "Then, multiply both sides by $(1-p)$:\n",
    "$${\n",
    "p  \\\\\n",
    "=e^{\\beta_{0}+\\sum_{k=1}^m\\beta_{k}x_{k}}\\times(1-p)  \\\\\n",
    "=e^{\\beta_{0}+\\sum_{k=1}^m\\beta_{k}x_{k}} - p\\times e^{\\beta_{0}+\\sum_{k=1}^m\\beta_{k}x_{k}}\n",
    "}$$\n",
    "\n",
    "Rearranging, we have:\n",
    "$$\n",
    "p+p\\times e^{\\beta_{0}+\\sum_{k=1}^m\\beta_{k}x_{k}} \n",
    "=p\\times (1+e^{\\beta_{0}+\\sum_{k=1}^m\\beta_{k}x_{k}}) \n",
    "=e^{\\beta_{0}+\\sum_{k=1}^m\\beta_{k}x_{k}}\n",
    "$$\n",
    "$$\n",
    "p=\\frac{e^{\\beta_{0}+\\sum_{k=1}^m\\beta_{k}x_{k}}}{1+e^{\\beta_{0}+\\sum_{k=1}^m\\beta_{k}x_{k}}}\\div \\frac{e^{\\beta_{0}+\\sum_{k=1}^m\\beta_{k}x_{k}}}{e^{\\beta_{0}+\\sum_{k=1}^m\\beta_{k}x_{k}}}=\\frac{1}{1+e^{-(\\beta_{0}+\\sum_{k=1}^m\\beta_{k}x_{k})}}\n",
    "$$\n",
    "\n",
    "In the last equation, we see that $p$ is formulated as a logistic or sigmoid function. \n",
    "\n",
    "We can visualize the logistic function to understand some of its properties."
   ]
  },
  {
   "cell_type": "code",
   "execution_count": 10,
   "metadata": {},
   "outputs": [
    {
     "data": {
      "text/plain": [
       "<matplotlib.axes._subplots.AxesSubplot at 0x1e25a198>"
      ]
     },
     "execution_count": 10,
     "metadata": {},
     "output_type": "execute_result"
    },
    {
     "data": {
      "image/png": "[encoded data removed]",
      "text/plain": [
       "<Figure size 432x288 with 1 Axes>"
      ]
     },
     "metadata": {
      "needs_background": "light"
     },
     "output_type": "display_data"
    }
   ],
   "source": [
    "import numpy as np\n",
    "linear_sum_component = np.arange(-10,10,0.1)\n",
    "probabilities = np.array(list(map(lambda x: 1/(1+np.exp(-x)), linear_sum_component)))\n",
    "sns.lineplot(x=linear_sum_component,y=probabilities)"
   ]
  },
  {
   "cell_type": "markdown",
   "metadata": {},
   "source": [
    "The logistic function is bounded between 0.0 and 1.0 (exclusive). The function never takes on 0.0 or 1.0, only asymptotically. \n",
    "\n",
    "It is also symmetric around 0.5 on the y-axis which corresponds to 0.0 on the x-axis, making $\\begin{align}p = 0.5\\end{align}$ a natural threshold for classiying a data instance as belonging to class label 1.0. Of course, one is free to determine some other threshold to suit the problem at hand (*more on that later*)."
   ]
  },
  {
   "cell_type": "markdown",
   "metadata": {},
   "source": [
    "### How does Logistic Regression Classify?"
   ]
  },
  {
   "cell_type": "markdown",
   "metadata": {},
   "source": [
    "Let's build a logistic regression model on the same data and visualize what it does."
   ]
  },
  {
   "cell_type": "code",
   "execution_count": 16,
   "metadata": {},
   "outputs": [
    {
     "data": {
      "text/plain": [
       "[(-5, 5), Text(0, 0.5, '$X_2$'), (-5, 5), Text(0.5, 0, '$X_1$'), None]"
      ]
     },
     "execution_count": 16,
     "metadata": {},
     "output_type": "execute_result"
    },
    {
     "data": {
      "image/png": "[encoded data removed]",
      "text/plain": [
       "<Figure size 576x432 with 2 Axes>"
      ]
     },
     "metadata": {},
     "output_type": "display_data"
    }
   ],
   "source": [
    "# Build logistic regression model\n",
    "from sklearn.linear_model import LogisticRegression\n",
    "log_model = LogisticRegression(solver='lbfgs').fit(X,y)\n",
    "\n",
    "# Make a grid of values and evaluate their probabilities\n",
    "xx1, xx2 = np.mgrid[-5:5:.01, -5:5:.01]\n",
    "grid = np.c_[xx1.ravel(), xx2.ravel()]\n",
    "probs = log_model.predict_proba(grid)[:, 1].reshape(xx1.shape)\n",
    "\n",
    "# Plot the probabilities along with the training data\n",
    "import matplotlib.pyplot as plt\n",
    "sns.set(style=\"white\")\n",
    "f, ax = plt.subplots(figsize=(8, 6))\n",
    "contour = ax.contourf(xx1, xx2, probs, 25, cmap=\"RdBu\",\n",
    "                      vmin=0, vmax=1)\n",
    "ax_c = f.colorbar(contour)\n",
    "ax_c.set_label(\"$P(y = 1)$\")\n",
    "ax_c.set_ticks([0, .25, .5, .75, 1])\n",
    "ax.scatter(X[:,0], X[:,1], c=y, s=50,\n",
    "           cmap=\"RdBu\", vmin=-.2, vmax=1.2,\n",
    "           edgecolor=\"white\", linewidth=1)\n",
    "ax.set(aspect=\"equal\",\n",
    "       xlim=(-5, 5), ylim=(-5, 5),\n",
    "       xlabel=\"$X_1$\", ylabel=\"$X_2$\")"
   ]
  },
  {
   "cell_type": "code",
   "execution_count": 15,
   "metadata": {},
   "outputs": [
    {
     "data": {
      "image/png": "[encoded data removed]",
      "text/plain": [
       "<Figure size 432x288 with 1 Axes>"
      ]
     },
     "metadata": {},
     "output_type": "display_data"
    }
   ],
   "source": [
    "demo_data['P(Y=1)'] = log_model.predict_proba(X)[:,1]\n",
    "sns.scatterplot(x = 'X1', y = 'Y', data = demo_data)\n",
    "plot = sns.lineplot(x = 'X1', y = 'P(Y=1)', data = demo_data)\n",
    "plot.get_figure().savefig('./Logistic Regression Prediction')"
   ]
  },
  {
   "cell_type": "markdown",
   "metadata": {},
   "source": [
    "In essence, one can understand the objective of logistic regression as learning a set of $\\begin{align}\\beta_{k} , k=0,1,...,m\\end{align}$ that creates the best separating decision boundary. In the plot, that decision boundary corresponds to the white line.\n",
    "\n",
    "What we also observe is that the decision boundary is imperfect; it does not perfectly separate both classes. This then begs the question of whether we could have found another straight line that better separates both classes."
   ]
  },
  {
   "cell_type": "markdown",
   "metadata": {},
   "source": [
    "### Cost Function"
   ]
  },
  {
   "cell_type": "markdown",
   "metadata": {},
   "source": [
    "To answer the question that concluded the previous sub-section, we will now turn our attention to how that decision boundary was decided upon.\n",
    "\n",
    "How the model decides the boundary is by minimizing a cost function. The cost function most implementations of logistic regression use is the binary cross entropy loss function."
   ]
  },
  {
   "cell_type": "markdown",
   "metadata": {},
   "source": [
    "#### Cost Function Mathematical Definition"
   ]
  },
  {
   "cell_type": "markdown",
   "metadata": {},
   "source": [
    "Let's first define the probability of the $\\begin{align}i\\end{align}$-th instance belonging to class 1.0 as:\n",
    "$$p_{\\beta}(X^{(i)}) =  \\frac{1}{1+e^{-(\\beta_{0}+\\sum_{k=1}^m\\beta_{k}x_{k})}}$$\n",
    "\n",
    "Then, the binary cross entropy loss function is defined as:\n",
    "$$J(\\beta)=-\\frac{1}{N}\\sum_{i=1}^N[y^{(i)}\\times\\ln(p_{\\beta}(X^{(i)})) + (1-y^{(i)})\\times\\ln(1-p_{\\beta}(X^{(i)}))]$$"
   ]
  },
  {
   "cell_type": "markdown",
   "metadata": {},
   "source": [
    "#### Unpacking Binary Cross Entropy Loss"
   ]
  },
  {
   "cell_type": "markdown",
   "metadata": {},
   "source": [
    "Let's try to unpack this loss function by first pointing out three facts about it. \n",
    "\n",
    "The first fact is that the value of the equation inside the square brackets depends on the true class label:\n",
    "- When $\\begin{align}y^{(i)}=1\\end{align}$, the equation inside the square brackets reduces to $\\begin{align}ln(p_{\\beta}(X^{(i)}))\\end{align}$\n",
    "- When $\\begin{align}y^{(i)}=0\\end{align}$, the equation inside the square brackets reduces to $\\begin{align}ln(1-p_{\\beta}(X^{(i)}))\\end{align}$\n",
    "\n",
    "The second fact is that the value of the equation inside the square brackets ranges from $\\begin{align}(\\ln(0),\\ln(1))\\end{align}$ because $\\begin{align}p_{\\beta}(X^{(i)})\\end{align}$ ranges from $\\begin{align}(0,1)\\end{align}$.\n",
    "\n",
    "The third fact is that the natural logarithm function is monotonically increasing: $\\ln(A)\\geq\\ln(B)\\forall A \\geq B$."
   ]
  },
  {
   "cell_type": "markdown",
   "metadata": {},
   "source": [
    "#### Counting the Cost"
   ]
  },
  {
   "cell_type": "markdown",
   "metadata": {},
   "source": [
    "With these three facts in mind, let's observe what the loss is when the model correctly or incorrectly classifies a data point with different degrees of confidence.\n",
    "\n",
    "Keeping in mind that the default threshold is 0.5, when a model correctly classifies:\n",
    "- Class Label 1.0 with $p=0.7$, the loss is $\\ln(0.7)=-0.36$\n",
    "- Class Label 1.0 with $p=0.9$, the loss is $\\ln(0.9)=-0.11$\n",
    "- Class Label 0.0 with $p=0.3$, the loss is $\\ln(0.7)=-0.36$\n",
    "- Class Label 0.0 with $p=0.1$, the loss is $\\ln(0.9)=-0.11$\n",
    "\n",
    "So, we can be sure that it is symmetrically rewarding more confident predictions of the right class more.\n",
    "\n",
    "Likewise, when a model incorrectly classifies:\n",
    "- Class Label 1.0 with $p=0.3$, the loss is $\\ln(0.3)=-1.20$\n",
    "- Class Label 1.0 with $p=0.1$, the loss is $\\ln(0.1)=-2.30$\n",
    "- Class Label 0.0 with $p=0.7$, the loss is $\\ln(0.3)=-1.20$\n",
    "- Class Label 0.0 with $p=0.9$, the loss is $\\ln(0.1)=-2.30$\n",
    "\n",
    "Here, we also see that it is symmetrically penalizing more confident predictions of the wrong class more.\n",
    "\n",
    "Hence, minimizing the binary cross entropy loss function corresponds to getting logistic regression to predict correctly with the optimal amount of confidence."
   ]
  },
  {
   "cell_type": "markdown",
   "metadata": {},
   "source": [
    "### Gradient Descent"
   ]
  },
  {
   "cell_type": "markdown",
   "metadata": {},
   "source": [
    "Now that we understand the cost function that we wish to minimize, we can turn our attention to the mechanism by which we obtain the best $\\beta s$.\n",
    "\n",
    "We utilize an algorithm called gradient descent. Gradient descent's procedure is as follows:\n",
    "1. Randomly initialize the $\\beta s$\n",
    "2. Compute the derivative of the loss function $J(\\beta)$ with regards to each $\\beta_{k}$\n",
    "3. Update each $\\beta$ relative to a proportion, $\\alpha$, of its derivative\n",
    "4. Repeat Steps 2 and 3 until the decrease in the cost function is less than some small number (i.e. convergence)"
   ]
  },
  {
   "cell_type": "markdown",
   "metadata": {},
   "source": [
    "#### Mathematical Walkthrough"
   ]
  },
  {
   "cell_type": "markdown",
   "metadata": {},
   "source": [
    "Suppose we have randomly initialized the $\\beta s$ and are ready to compute the derivative of $J(\\beta)$ with regards to each $\\beta_{k}$. \n",
    "\n",
    "To derive the derivative of each $\\beta_{k}$, we first note that:\n",
    "$${\n",
    "p(z)=\\frac{1}{1+e^{-z}} \\\\\n",
    "p'(z)=p(z)\\times(1-p(z)) \\\\\n",
    "z=\\beta_{0}+\\sum_{k=1}^m\\beta_{k}x_{k} \\\\\n",
    "\\frac{\\partial z}{\\partial\\beta_{k}} = x_{k}\n",
    "}$$\n",
    "\n",
    "Then, the derivative of the term in the square bracker of the cost function, $y\\times\\ln(p) + (1-y)\\times\\ln(1-p)$, is:\n",
    "$${\n",
    "y \\frac{1}{p}p'+(1-y) \\left( \\frac{1}{1-p}\\right) (-p') \\\\\n",
    "=\\left(  \\frac{y}{p}-  \\frac{1-y}{1-p}\\right) p' \\\\\n",
    "= \\frac{y(1-p)-p(1-y)}{p(1-p)}p'  \\\\\n",
    "= \\frac{y-y*p-p+p*y}{p(1-p)}p'  \\\\\n",
    "= \\frac{y-y*p-p+p*y}{p(1-p)}p(1-p)*x  \\\\\n",
    "=(y-p)*x\n",
    "}$$\n",
    "\n",
    "Finally, the derivative that we are interested in is:\n",
    "$${\n",
    "\\frac{\\partial J(\\beta)}{\\partial\\beta_{k}} =-\\frac{1}{N}\\sum_{i=1}^{N}(y^{(i)}-p_\\beta(x^{(i)}))x_k^{(i)}\n",
    "}$$\n",
    "\n",
    "Using this derivative, obtained every time we perform Step 2, we then use the following update equation in Step 3 for each $\\beta_{k}$:\n",
    "$$\\beta_{k,t+1}=\\beta_{k,t}-\\alpha*\\frac{\\partial J(\\beta)}{\\partial\\beta_{k}}$$\n",
    "\n",
    "Once the cost function fails to improve by a certain margin or we have reached the maximum iterations allowed, we stop gradient descent."
   ]
  },
  {
   "cell_type": "code",
   "execution_count": 13,
   "metadata": {},
   "outputs": [
    {
     "data": {
      "text/html": [
       "<img src=\"https://cdn-images-1.medium.com/max/1600/1*PQ8tdohapfm-YHlrRIRuOA.gif\"/>"
      ],
      "text/plain": [
       "<IPython.core.display.Image object>"
      ]
     },
     "execution_count": 13,
     "metadata": {},
     "output_type": "execute_result"
    }
   ],
   "source": [
    "{\n",
    "    \"tags\": [\n",
    "        \"hide_input\",\n",
    "    ]\n",
    "}\n",
    "from IPython.display import Image\n",
    "from IPython.core.display import HTML \n",
    "Image(url= \"https://cdn-images-1.medium.com/max/1600/1*PQ8tdohapfm-YHlrRIRuOA.gif\")"
   ]
  },
  {
   "cell_type": "markdown",
   "metadata": {},
   "source": [
    "## Evaluation Metrics"
   ]
  },
  {
   "cell_type": "markdown",
   "metadata": {},
   "source": [
    "So, suppose we have trained our logistic regression model. The next thing to do is to evaluate its performance, which we use certain metrics for doing so.\n",
    "\n",
    "Before that, let's get through some of the terminology used. Denoting a data instance's ground truth label and predicted label as (*true label*, *predicted label*), we have:\n",
    "- True Positve (TP): (1.0, 1.0)\n",
    "- False Positive (FP): (0.0, 1.0)\n",
    "- True Negative (TN): (0.0, 0.0)\n",
    "- False Negative (FN): (1.0, 0.0)"
   ]
  },
  {
   "cell_type": "markdown",
   "metadata": {},
   "source": [
    "### Confusion Matrix"
   ]
  },
  {
   "cell_type": "markdown",
   "metadata": {},
   "source": [
    "Many of the above terminology can be visualized on a confusion matrix."
   ]
  },
  {
   "cell_type": "code",
   "execution_count": 18,
   "metadata": {},
   "outputs": [
    {
     "data": {
      "text/plain": [
       "Text(30.5, 0.5, 'True')"
      ]
     },
     "execution_count": 18,
     "metadata": {},
     "output_type": "execute_result"
    },
    {
     "data": {
      "image/png": "[encoded data removed]",
      "text/plain": [
       "<Figure size 432x288 with 2 Axes>"
      ]
     },
     "metadata": {},
     "output_type": "display_data"
    }
   ],
   "source": [
    "from sklearn.metrics import confusion_matrix\n",
    "log_preds = log_model.predict(X)\n",
    "cm = confusion_matrix(y,log_preds)\n",
    "df_cm = pd.DataFrame(cm, index=[str(i) for i in np.arange(2)], columns=[str(i) for i in np.arange(2)])\n",
    "sns.heatmap(df_cm,annot=True,cmap=\"YlGnBu\")\n",
    "plt.xlabel(\"Predicted\")\n",
    "plt.ylabel(\"True\")"
   ]
  },
  {
   "cell_type": "markdown",
   "metadata": {},
   "source": [
    "The diagonal elements of the confusion matrix represent all the correctly classified instances whereas the off-diagonal represents all the misclassified ones.\n",
    "\n",
    "In particular:\n",
    "- The upper left corner corresponds to TNs.\n",
    "- The upper right corner corresponds to FPs.\n",
    "- The lower left corner corresponds to FNs.\n",
    "- The lower right corner corresponds to TPs."
   ]
  },
  {
   "cell_type": "markdown",
   "metadata": {},
   "source": [
    "### Accuracy"
   ]
  },
  {
   "cell_type": "markdown",
   "metadata": {},
   "source": [
    "Accuracy is defined as follows:\n",
    "$$Accuracy=\\frac{TP+TN}{TP+TN+FP+FN}$$\n",
    "\n",
    "In the context of the confusion matrix, accuracy is basically the sum of the values on the diagonals divided by the sum of all values in all cells.\n",
    "\n",
    "This is the default metric to use under normal conditions."
   ]
  },
  {
   "cell_type": "markdown",
   "metadata": {},
   "source": [
    "### Precision, Recall and F1"
   ]
  },
  {
   "cell_type": "markdown",
   "metadata": {},
   "source": [
    "There are various situations where accuracy is a poor metric to use to evaluate a classifier.\n",
    "\n",
    "Suppose that in a particular district of a country, 50% prevalence of residents are terrorists. This country's security department has implemented a machine learning model to identify terrorists. Residents identified as terrorists will be executed. Which confusion matrix do you think their officials would rather see?"
   ]
  },
  {
   "cell_type": "code",
   "execution_count": 47,
   "metadata": {},
   "outputs": [
    {
     "data": {
      "text/plain": [
       "[Text(607.4818181818181, 0.5, 'True'),\n",
       " Text(0.5, 12.5, 'Predicted'),\n",
       " Text(0.5, 1, 'No False Negatives')]"
      ]
     },
     "execution_count": 47,
     "metadata": {},
     "output_type": "execute_result"
    },
    {
     "data": {
      "image/png": "[encoded data removed]",
      "text/plain": [
       "<Figure size 1152x288 with 4 Axes>"
      ]
     },
     "metadata": {},
     "output_type": "display_data"
    }
   ],
   "source": [
    "fig, ax = plt.subplots(1,2,figsize=(16,4))\n",
    "sns.heatmap(pd.DataFrame(np.array([[50,0],[40,10]]), \n",
    "                         index=['Not Terrorist', 'Terrorist'], \n",
    "                         columns=['Not Terrorist', 'Terrorist']),\n",
    "            annot=True,\n",
    "            cmap=\"YlGnBu\",\n",
    "            ax=ax[0])\n",
    "sns.heatmap(pd.DataFrame(np.array([[10,40],[0,50]]), \n",
    "                         index=['Not Terrorist', 'Terrorist'], \n",
    "                         columns=['Not Terrorist', 'Terrorist']),\n",
    "            annot=True,\n",
    "            cmap=\"YlGnBu\",\n",
    "            ax=ax[1])\n",
    "ax[0].set(xlabel='Predicted', ylabel='True',title='No False Positives')\n",
    "ax[1].set(xlabel='Predicted', ylabel='True',title='No False Negatives')"
   ]
  },
  {
   "cell_type": "markdown",
   "metadata": {},
   "source": [
    "If officials are more concerned about not wrongly executing innocents than killing all terrorists, we say that they are less tolerant of false positives. Hence, the metric of interest to them is precision which is defined as: \n",
    "$$Precision=\\frac{TP}{TP+FP}$$\n",
    "\n",
    "However, if officials are more concerned about killing all terrorists than not wrongly executing innocents, we say that they are less tolerant of false negatives. Hence, the metric of interest to them is recall which is defined as:\n",
    "$$Recall=\\frac{TN}{TN+FN}$$\n",
    "\n",
    "To recap, if false positives are less tolerable, precision might be a better evaluation metric. If false negatives are less tolerable, recall might be a better evaluation metric.\n",
    "\n",
    "Another situation where accuracy is not the best gauge of model performance is in the presence of severe class imbalance. Class imbalance occurs when one label class dominates the dataset, causing the classifier to tend towards classifying a data instance as the majority class. For example, when 99% of the dataset belongs to class 1.0, classifying all data instances as class 1.0 nets the classifier a 99% accuracy. This is hardly helpful. Instead, it will be better to assess the model by some metric that balances precision and recall. The F1-score, which is the harmonic mean of precision and recall, is one such metric. It is defined as:\n",
    "$$F1=2*\\frac{precision*recall}{precision+recall}$$"
   ]
  }
 ],
 "metadata": {
  "kernelspec": {
   "display_name": "Python 3",
   "language": "python",
   "name": "python3"
  },
  "language_info": {
   "codemirror_mode": {
    "name": "ipython",
    "version": 3
   },
   "file_extension": ".py",
   "mimetype": "text/x-python",
   "name": "python",
   "nbconvert_exporter": "python",
   "pygments_lexer": "ipython3",
   "version": "3.7.3"
  },
  "toc": {
   "base_numbering": 1,
   "nav_menu": {},
   "number_sections": true,
   "sideBar": true,
   "skip_h1_title": false,
   "title_cell": "Table of Contents",
   "title_sidebar": "Contents",
   "toc_cell": false,
   "toc_position": {
    "height": "calc(100% - 180px)",
    "left": "10px",
    "top": "150px",
    "width": "307.2px"
   },
   "toc_section_display": true,
   "toc_window_display": true
  }
 },
 "nbformat": 4,
 "nbformat_minor": 2
}
